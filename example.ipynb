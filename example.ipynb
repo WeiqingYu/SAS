{
 "cells": [
  {
   "cell_type": "code",
   "execution_count": 2,
   "metadata": {
    "collapsed": false
   },
   "outputs": [
    {
     "name": "stdout",
     "output_type": "stream",
     "text": [
      "Training Error: .....  1.27250474974\n",
      "Testing Error: ......  1.63056039622\n",
      "Finished Iteration No.  1\n",
      "Training Error: .....  0.292493124981\n",
      "Testing Error: ......  0.387434601467\n",
      "Finished Iteration No.  2\n",
      "Training Error: .....  0.232586030731\n",
      "Testing Error: ......  0.288807619338\n",
      "Finished Iteration No.  3\n",
      "Training Error: .....  0.225036433301\n",
      "Testing Error: ......  0.271585139162\n",
      "Finished Iteration No.  4\n",
      "Training Error: .....  0.224469914669\n",
      "Testing Error: ......  0.269583551815\n",
      "Finished Iteration No.  5\n",
      "Training Error: .....  0.22419869179\n",
      "Testing Error: ......  0.268081396169\n",
      "Finished Iteration No.  6\n",
      "Training Error: .....  0.223932408996\n",
      "Testing Error: ......  0.266813189729\n",
      "Finished Iteration No.  7\n",
      "Training Error: .....  0.223689230869\n",
      "Testing Error: ......  0.266017360501\n",
      "Finished Iteration No.  8\n",
      "Training Error: .....  0.223475739097\n",
      "Testing Error: ......  0.265638428894\n",
      "Finished Iteration No.  9\n",
      "Training Error: .....  0.223317464917\n",
      "Testing Error: ......  0.265457573722\n",
      "Finished Iteration No.  10\n",
      "Training Error: .....  0.223215743384\n",
      "Testing Error: ......  0.265354878348\n",
      "Finished Iteration No.  11\n",
      "Training Error: .....  0.223155925555\n",
      "Testing Error: ......  0.265253010067\n",
      "Finished Iteration No.  12\n",
      "Training Error: .....  0.223121002199\n",
      "Testing Error: ......  0.265166584616\n",
      "Finished Iteration No.  13\n",
      "Training Error: .....  0.22310471203\n",
      "Testing Error: ......  0.265070745615\n",
      "Finished Iteration No.  14\n",
      "Training Error: .....  0.223097332123\n",
      "Testing Error: ......  0.264974886968\n",
      "Finished Iteration No.  15\n",
      "MAE of estimation: 0.264974886968\n"
     ]
    }
   ],
   "source": [
    "from sas import SAS\n",
    "import numpy as np\n",
    "import math\n",
    "import matplotlib.pyplot as plt\n",
    "\n",
    "base = np.linspace(0,math.pi,40)\n",
    "mat_b = np.array([[math.sin(x) for x in base],\n",
    "                  [math.cos(x) for x in base],\n",
    "                  [math.sinh(x) for x in base],\n",
    "                  [math.cosh(x) for x in base],\n",
    "                  base])\n",
    "mat_a = np.random.rand(2000,5)\n",
    "complete_dat = np.dot(mat_a,mat_b)+np.random.rand(2000,40)\n",
    "test_dat = complete_dat.copy()\n",
    "test_dat.ravel()[np.random.choice(test_dat.size,16000,replace=False)]=np.nan\n",
    "\n",
    "recover = SAS(thres=0.00001,rank = 5)\n",
    "sasres_a, sasres_b = recover.fit(test_dat,complete_dat,True)\n",
    "\n",
    "sasres = np.dot(sasres_a.transpose(),sasres_b)\n",
    "print('MAE of estimation:',np.mean(abs(sasres-complete_dat)[np.isnan(test_dat)]))"
   ]
  },
  {
   "cell_type": "code",
   "execution_count": 3,
   "metadata": {
    "collapsed": false
   },
   "outputs": [
    {
     "data": {
      "image/png": "[encoded data removed]",
      "text/plain": [
       "<matplotlib.figure.Figure at 0x21a4a1714e0>"
      ]
     },
     "metadata": {},
     "output_type": "display_data"
    }
   ],
   "source": [
    "%matplotlib inline\n",
    "fig, ax = plt.subplots()\n",
    "plt.plot(test_dat[0],'bs',label = 'Data with Missing Entries')\n",
    "plt.plot(complete_dat[0],'g',label = 'Complete Data',linewidth = 3.0)\n",
    "plt.plot(sasres[0],'r--', label = 'SAS Recovered Curve')\n",
    "ax.legend(loc='lower center', shadow=True)\n",
    "plt.show()"
   ]
  }
 ],
 "metadata": {
  "kernelspec": {
   "display_name": "Python 3",
   "language": "python",
   "name": "python3"
  },
  "language_info": {
   "codemirror_mode": {
    "name": "ipython",
    "version": 3
   },
   "file_extension": ".py",
   "mimetype": "text/x-python",
   "name": "python",
   "nbconvert_exporter": "python",
   "pygments_lexer": "ipython3",
   "version": "3.5.3"
  }
 },
 "nbformat": 4,
 "nbformat_minor": 0
}
